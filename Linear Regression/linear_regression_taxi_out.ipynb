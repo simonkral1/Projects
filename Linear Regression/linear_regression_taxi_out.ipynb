{
 "cells": [
  {
   "cell_type": "markdown",
   "id": "2d94da45",
   "metadata": {},
   "source": [
    "# Linear Regression on Taxi Out Time"
   ]
  },
  {
   "cell_type": "code",
   "execution_count": 1,
   "id": "7d063f60",
   "metadata": {},
   "outputs": [],
   "source": [
    "import pandas as pd\n",
    "\n",
    "from sklearn.model_selection import train_test_split\n",
    "\n",
    "from sklearn.linear_model import LinearRegression\n",
    "\n",
    "from sklearn.metrics import mean_absolute_error, mean_squared_error, r2_score\n"
   ]
  },
  {
   "cell_type": "markdown",
   "id": "6f743326",
   "metadata": {},
   "source": [
    "## Load the dataset"
   ]
  },
  {
   "cell_type": "code",
   "execution_count": 2,
   "id": "95331875",
   "metadata": {},
   "outputs": [],
   "source": [
    "flight_data = pd.read_csv('M1_final.csv')\n"
   ]
  },
  {
   "cell_type": "markdown",
   "id": "72efc650",
   "metadata": {},
   "source": [
    "## Dropping rows with missing values in the 'Wind' column"
   ]
  },
  {
   "cell_type": "code",
   "execution_count": 3,
   "id": "bc39788b",
   "metadata": {},
   "outputs": [],
   "source": [
    "flight_data_cleaned = flight_data.dropna(subset=['Wind'])\n"
   ]
  },
  {
   "cell_type": "markdown",
   "id": "228f371a",
   "metadata": {},
   "source": [
    "## Calculating the correlation matrix"
   ]
  },
  {
   "cell_type": "code",
   "execution_count": 4,
   "id": "c8d981c9",
   "metadata": {},
   "outputs": [
    {
     "name": "stderr",
     "output_type": "stream",
     "text": [
      "C:\\Users\\Simon\\AppData\\Local\\Temp\\ipykernel_16180\\374399121.py:1: FutureWarning: The default value of numeric_only in DataFrame.corr is deprecated. In a future version, it will default to False. Select only valid columns or specify the value of numeric_only to silence this warning.\n",
      "  correlation_matrix = flight_data_cleaned.corr()\n"
     ]
    }
   ],
   "source": [
    "correlation_matrix = flight_data_cleaned.corr()\n"
   ]
  },
  {
   "cell_type": "markdown",
   "id": "9592d94d",
   "metadata": {},
   "source": [
    "## Getting the correlation of all features with 'TAXI_OUT'"
   ]
  },
  {
   "cell_type": "code",
   "execution_count": 5,
   "id": "f3afb280",
   "metadata": {},
   "outputs": [],
   "source": [
    "taxi_out_corr = correlation_matrix['TAXI_OUT'].sort_values(ascending=False)\n"
   ]
  },
  {
   "cell_type": "markdown",
   "id": "9c1f0750",
   "metadata": {},
   "source": [
    "## Selecting features with a correlation coefficient greater than 0.06"
   ]
  },
  {
   "cell_type": "code",
   "execution_count": 6,
   "id": "25f683a0",
   "metadata": {},
   "outputs": [],
   "source": [
    "selected_features = taxi_out_corr[taxi_out_corr.abs() > 0.06].index.drop('TAXI_OUT')\n"
   ]
  },
  {
   "cell_type": "markdown",
   "id": "0f50b6db",
   "metadata": {},
   "source": [
    "## Selecting the data corresponding to the selected features and target"
   ]
  },
  {
   "cell_type": "code",
   "execution_count": 7,
   "id": "77a124cb",
   "metadata": {},
   "outputs": [],
   "source": [
    "X_selected = flight_data_cleaned[selected_features]\n"
   ]
  },
  {
   "cell_type": "code",
   "execution_count": 8,
   "id": "2c4c9100",
   "metadata": {},
   "outputs": [],
   "source": [
    "y_selected = flight_data_cleaned['TAXI_OUT']\n"
   ]
  },
  {
   "cell_type": "markdown",
   "id": "dc581bfa",
   "metadata": {},
   "source": [
    "## Splitting the data into training and test sets"
   ]
  },
  {
   "cell_type": "code",
   "execution_count": 11,
   "id": "d1459887",
   "metadata": {},
   "outputs": [],
   "source": [
    "X_train_selected, X_test_selected, y_train_selected, y_test_selected = train_test_split(    X_selected, y_selected, test_size=0.2, random_state=42)\n",
    "\n"
   ]
  },
  {
   "cell_type": "code",
   "execution_count": null,
   "id": "9438c988",
   "metadata": {},
   "outputs": [],
   "source": []
  },
  {
   "cell_type": "markdown",
   "id": "8ce6f435",
   "metadata": {},
   "source": [
    "## Training a linear regression model with the selected features"
   ]
  },
  {
   "cell_type": "code",
   "execution_count": 12,
   "id": "04d15c1d",
   "metadata": {},
   "outputs": [],
   "source": [
    "lr_model_selected = LinearRegression()\n"
   ]
  },
  {
   "cell_type": "code",
   "execution_count": 14,
   "id": "98f3be42",
   "metadata": {},
   "outputs": [
    {
     "data": {
      "text/html": [
       "<style>#sk-container-id-2 {color: black;background-color: white;}#sk-container-id-2 pre{padding: 0;}#sk-container-id-2 div.sk-toggleable {background-color: white;}#sk-container-id-2 label.sk-toggleable__label {cursor: pointer;display: block;width: 100%;margin-bottom: 0;padding: 0.3em;box-sizing: border-box;text-align: center;}#sk-container-id-2 label.sk-toggleable__label-arrow:before {content: \"▸\";float: left;margin-right: 0.25em;color: #696969;}#sk-container-id-2 label.sk-toggleable__label-arrow:hover:before {color: black;}#sk-container-id-2 div.sk-estimator:hover label.sk-toggleable__label-arrow:before {color: black;}#sk-container-id-2 div.sk-toggleable__content {max-height: 0;max-width: 0;overflow: hidden;text-align: left;background-color: #f0f8ff;}#sk-container-id-2 div.sk-toggleable__content pre {margin: 0.2em;color: black;border-radius: 0.25em;background-color: #f0f8ff;}#sk-container-id-2 input.sk-toggleable__control:checked~div.sk-toggleable__content {max-height: 200px;max-width: 100%;overflow: auto;}#sk-container-id-2 input.sk-toggleable__control:checked~label.sk-toggleable__label-arrow:before {content: \"▾\";}#sk-container-id-2 div.sk-estimator input.sk-toggleable__control:checked~label.sk-toggleable__label {background-color: #d4ebff;}#sk-container-id-2 div.sk-label input.sk-toggleable__control:checked~label.sk-toggleable__label {background-color: #d4ebff;}#sk-container-id-2 input.sk-hidden--visually {border: 0;clip: rect(1px 1px 1px 1px);clip: rect(1px, 1px, 1px, 1px);height: 1px;margin: -1px;overflow: hidden;padding: 0;position: absolute;width: 1px;}#sk-container-id-2 div.sk-estimator {font-family: monospace;background-color: #f0f8ff;border: 1px dotted black;border-radius: 0.25em;box-sizing: border-box;margin-bottom: 0.5em;}#sk-container-id-2 div.sk-estimator:hover {background-color: #d4ebff;}#sk-container-id-2 div.sk-parallel-item::after {content: \"\";width: 100%;border-bottom: 1px solid gray;flex-grow: 1;}#sk-container-id-2 div.sk-label:hover label.sk-toggleable__label {background-color: #d4ebff;}#sk-container-id-2 div.sk-serial::before {content: \"\";position: absolute;border-left: 1px solid gray;box-sizing: border-box;top: 0;bottom: 0;left: 50%;z-index: 0;}#sk-container-id-2 div.sk-serial {display: flex;flex-direction: column;align-items: center;background-color: white;padding-right: 0.2em;padding-left: 0.2em;position: relative;}#sk-container-id-2 div.sk-item {position: relative;z-index: 1;}#sk-container-id-2 div.sk-parallel {display: flex;align-items: stretch;justify-content: center;background-color: white;position: relative;}#sk-container-id-2 div.sk-item::before, #sk-container-id-2 div.sk-parallel-item::before {content: \"\";position: absolute;border-left: 1px solid gray;box-sizing: border-box;top: 0;bottom: 0;left: 50%;z-index: -1;}#sk-container-id-2 div.sk-parallel-item {display: flex;flex-direction: column;z-index: 1;position: relative;background-color: white;}#sk-container-id-2 div.sk-parallel-item:first-child::after {align-self: flex-end;width: 50%;}#sk-container-id-2 div.sk-parallel-item:last-child::after {align-self: flex-start;width: 50%;}#sk-container-id-2 div.sk-parallel-item:only-child::after {width: 0;}#sk-container-id-2 div.sk-dashed-wrapped {border: 1px dashed gray;margin: 0 0.4em 0.5em 0.4em;box-sizing: border-box;padding-bottom: 0.4em;background-color: white;}#sk-container-id-2 div.sk-label label {font-family: monospace;font-weight: bold;display: inline-block;line-height: 1.2em;}#sk-container-id-2 div.sk-label-container {text-align: center;}#sk-container-id-2 div.sk-container {/* jupyter's `normalize.less` sets `[hidden] { display: none; }` but bootstrap.min.css set `[hidden] { display: none !important; }` so we also need the `!important` here to be able to override the default hidden behavior on the sphinx rendered scikit-learn.org. See: https://github.com/scikit-learn/scikit-learn/issues/21755 */display: inline-block !important;position: relative;}#sk-container-id-2 div.sk-text-repr-fallback {display: none;}</style><div id=\"sk-container-id-2\" class=\"sk-top-container\"><div class=\"sk-text-repr-fallback\"><pre>LinearRegression()</pre><b>In a Jupyter environment, please rerun this cell to show the HTML representation or trust the notebook. <br />On GitHub, the HTML representation is unable to render, please try loading this page with nbviewer.org.</b></div><div class=\"sk-container\" hidden><div class=\"sk-item\"><div class=\"sk-estimator sk-toggleable\"><input class=\"sk-toggleable__control sk-hidden--visually\" id=\"sk-estimator-id-2\" type=\"checkbox\" checked><label for=\"sk-estimator-id-2\" class=\"sk-toggleable__label sk-toggleable__label-arrow\">LinearRegression</label><div class=\"sk-toggleable__content\"><pre>LinearRegression()</pre></div></div></div></div></div>"
      ],
      "text/plain": [
       "LinearRegression()"
      ]
     },
     "execution_count": 14,
     "metadata": {},
     "output_type": "execute_result"
    }
   ],
   "source": [
    "lr_model_selected.fit(X_train_selected, y_train_selected)\n"
   ]
  },
  {
   "cell_type": "markdown",
   "id": "f7944406",
   "metadata": {},
   "source": [
    "## Making predictions on the test data"
   ]
  },
  {
   "cell_type": "code",
   "execution_count": 15,
   "id": "b6bf3165",
   "metadata": {},
   "outputs": [],
   "source": [
    "y_pred_selected = lr_model_selected.predict(X_test_selected)\n"
   ]
  },
  {
   "cell_type": "markdown",
   "id": "9be19f8f",
   "metadata": {},
   "source": [
    "## Evaluating the model's performance"
   ]
  },
  {
   "cell_type": "code",
   "execution_count": 16,
   "id": "b988b115",
   "metadata": {},
   "outputs": [],
   "source": [
    "mae_selected = mean_absolute_error(y_test_selected, y_pred_selected)\n"
   ]
  },
  {
   "cell_type": "code",
   "execution_count": 17,
   "id": "5fe45e12",
   "metadata": {},
   "outputs": [],
   "source": [
    "mse_selected = mean_squared_error(y_test_selected, y_pred_selected)\n"
   ]
  },
  {
   "cell_type": "code",
   "execution_count": 18,
   "id": "5bb36796",
   "metadata": {},
   "outputs": [],
   "source": [
    "r2_selected = r2_score(y_test_selected, y_pred_selected)\n"
   ]
  },
  {
   "cell_type": "markdown",
   "id": "d3c0a021",
   "metadata": {},
   "source": [
    "## Printing the performance metrics"
   ]
  },
  {
   "cell_type": "code",
   "execution_count": 19,
   "id": "582fd983",
   "metadata": {},
   "outputs": [
    {
     "name": "stdout",
     "output_type": "stream",
     "text": [
      "MAE: 5.280524473495101\n"
     ]
    }
   ],
   "source": [
    "print(f'MAE: {mae_selected}')\n"
   ]
  },
  {
   "cell_type": "code",
   "execution_count": 20,
   "id": "6ebd7f88",
   "metadata": {},
   "outputs": [
    {
     "name": "stdout",
     "output_type": "stream",
     "text": [
      "MSE: 43.54529009367293\n"
     ]
    }
   ],
   "source": [
    "print(f'MSE: {mse_selected}')\n"
   ]
  },
  {
   "cell_type": "code",
   "execution_count": 21,
   "id": "569fdc88",
   "metadata": {},
   "outputs": [
    {
     "name": "stdout",
     "output_type": "stream",
     "text": [
      "R2 Score: 0.05761636146631355\n"
     ]
    }
   ],
   "source": [
    "print(f'R2 Score: {r2_selected}')\n"
   ]
  }
 ],
 "metadata": {
  "kernelspec": {
   "display_name": "Python 3",
   "language": "python",
   "name": "python3"
  },
  "language_info": {
   "codemirror_mode": {
    "name": "ipython",
    "version": 3
   },
   "file_extension": ".py",
   "mimetype": "text/x-python",
   "name": "python",
   "nbconvert_exporter": "python",
   "pygments_lexer": "ipython3",
   "version": "3.10.9"
  }
 },
 "nbformat": 4,
 "nbformat_minor": 5
}
